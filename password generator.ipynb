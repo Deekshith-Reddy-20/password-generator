{
  "nbformat": 4,
  "nbformat_minor": 0,
  "metadata": {
    "colab": {
      "provenance": [],
      "authorship_tag": "ABX9TyNByLVFfWD8gSCWUrPXmxga",
      "include_colab_link": true
    },
    "kernelspec": {
      "name": "python3",
      "display_name": "Python 3"
    },
    "language_info": {
      "name": "python"
    }
  },
  "cells": [
    {
      "cell_type": "markdown",
      "metadata": {
        "id": "view-in-github",
        "colab_type": "text"
      },
      "source": [
        "<a href=\"https://colab.research.google.com/github/Deekshith-Reddy-20/password-generator/blob/main/password%20generator.ipynb\" target=\"_parent\"><img src=\"https://colab.research.google.com/assets/colab-badge.svg\" alt=\"Open In Colab\"/></a>"
      ]
    },
    {
      "cell_type": "code",
      "execution_count": 1,
      "metadata": {
        "colab": {
          "base_uri": "https://localhost:8080/"
        },
        "id": "ZokZt9lSv5Gr",
        "outputId": "d210836b-dd78-47f3-8cb2-c6b29adb4875"
      },
      "outputs": [
        {
          "output_type": "stream",
          "name": "stdout",
          "text": [
            "Suggested Password: 9Xe^32|[\n"
          ]
        }
      ],
      "source": [
        "import random\n",
        "import string\n",
        "def generate_password(length=8):\n",
        "    if length < 8:\n",
        "        return \"Password too short.\"\n",
        "    upper = string.ascii_uppercase\n",
        "    lower = string.ascii_lowercase\n",
        "    symbols = string.punctuation\n",
        "    digits = string.digits\n",
        "    password = [random.choice(upper),random.choice(lower),random.choice(digits),random.choice(symbols)]\n",
        "    chars = upper + lower + digits + symbols\n",
        "    password += random.choices(chars, k=length - 4)\n",
        "    random.shuffle(password)\n",
        "    return''.join(password)\n",
        "print(\"Suggested Password:\", generate_password(8))"
      ]
    }
  ]
}